{
    "cells": [
        {
            "cell_type": "markdown",
            "metadata": {},
            "source": [
                "# {TPL_PROJECT}\n",
                "\n",
                "this is `executor` notebook.\n",
                "\n",
                "## Pre-requisites\n",
                "\n",
                "### For python\n"
            ]
        },
        {
            "cell_type": "code",
            "execution_count": null,
            "metadata": {},
            "outputs": [],
            "source": [
                "import sys\n",
                "\n",
                "# install papermill\n",
                "!{sys.executable} -m pip install papermill #--user"
            ]
        },
        {
            "cell_type": "markdown",
            "metadata": {},
            "source": []
        },
        {
            "cell_type": "markdown",
            "metadata": {},
            "source": [
                "## Execution\n",
                "\n",
                "### Dependencies\n"
            ]
        },
        {
            "cell_type": "code",
            "execution_count": null,
            "metadata": {},
            "outputs": [],
            "source": [
                "import json\n",
                "import os\n",
                "import time\n",
                "\n",
                "from pprint import pprint\n",
                "from datetime import datetime\n"
            ]
        },
        {
            "cell_type": "markdown",
            "metadata": {},
            "source": [
                "### Set system variables\n"
            ]
        },
        {
            "cell_type": "code",
            "execution_count": null,
            "metadata": {},
            "outputs": [],
            "source": [
                "working_dir = os.getcwd()\n",
                "\n",
                "print(\"working_dir: \", working_dir)\n",
                "\n",
                "pprint(sys.path)\n"
            ]
        },
        {
            "cell_type": "markdown",
            "metadata": {},
            "source": [
                "### Check output directory. (auto-create if not exist.)\n"
            ]
        },
        {
            "cell_type": "code",
            "execution_count": null,
            "metadata": {},
            "outputs": [],
            "source": [
                "%%bash\n",
                "\n",
                "check_directory=$(ls ./ | grep 'output' | wc -l)\n",
                "\n",
                "if [ $check_directory == 0 ]\n",
                "then\n",
                "    mkdir ./output\n",
                "fi"
            ]
        },
        {
            "cell_type": "markdown",
            "metadata": {},
            "source": [
                "### Load `config.json` from file (local path)\n"
            ]
        },
        {
            "cell_type": "code",
            "execution_count": null,
            "metadata": {},
            "outputs": [],
            "source": [
                "with open(working_dir + \"/config.json\", \"r\", encoding=\"utf-8\") as f:\n",
                "    config = json.load(f)\n"
            ]
        },
        {
            "cell_type": "markdown",
            "metadata": {},
            "source": [
                "### Configure variables\n"
            ]
        },
        {
            "cell_type": "code",
            "execution_count": null,
            "metadata": {},
            "outputs": [],
            "source": [
                "current_datetime = datetime.now()\n",
                "current_timestamp = int(current_datetime.utcnow().timestamp() * 1000)\n",
                "execute_timestamp = current_datetime.strftime(\"%Y-%m-%d_%H%M%S\")\n",
                "\n",
                "print(\"current datetime: \", current_datetime)\n",
                "print(\"current timestamp: \", current_timestamp)\n",
                "\n",
                "app = config[\"app\"]\n",
                "app_execution = app[\"execution\"]\n",
                "\n",
                "target_notebook_path = app_execution[\"inputPath\"]\n"
            ]
        },
        {
            "cell_type": "markdown",
            "metadata": {},
            "source": []
        },
        {
            "cell_type": "code",
            "execution_count": null,
            "metadata": {},
            "outputs": [],
            "source": [
                "import papermill as pm\n",
                "\n",
                "pm.execute_notebook(\n",
                "    target_notebook_path,\n",
                "    \"./output/output-{0}.ipynb\".format(execute_timestamp),\n",
                "    parameters=dict(config=config),\n",
                ")\n"
            ]
        },
        {
            "cell_type": "markdown",
            "metadata": {},
            "source": [
                "## References\n",
                "\n",
                "- Papermill (https://github.com/nteract/papermill)\n"
            ]
        }
    ],
    "metadata": {
        "kernelspec": {
            "display_name": "Python 3 (ipykernel)",
            "language": "python",
            "name": "python3"
        },
        "language_info": {
            "codemirror_mode": {
                "name": "ipython",
                "version": 3
            },
            "file_extension": ".py",
            "mimetype": "text/x-python",
            "name": "python",
            "nbconvert_exporter": "python",
            "pygments_lexer": "ipython3",
            "version": "3.8.13"
        }
    },
    "nbformat": 4,
    "nbformat_minor": 4
}