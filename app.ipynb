{
    "cells": [
        {
            "cell_type": "markdown",
            "id": "68f5cda7-d8dd-4439-a898-7c259d2df984",
            "metadata": {},
            "source": [
                "# {TPL_PROJECT}\n",
                "\n",
                "This is `app` notebook.\n",
                "\n",
                "## Pre-requisites\n",
                "\n",
                "### For python\n"
            ]
        },
        {
            "cell_type": "code",
            "execution_count": null,
            "id": "904216b4-23d1-4a80-969a-cca4b934c27d",
            "metadata": {},
            "outputs": [],
            "source": [
                "import sys\n",
                "\n",
                "# install additional libraries here.\n",
                "!{sys.executable} -m pip install delta-spark minio pysftp pandas retrying"
            ]
        },
        {
            "cell_type": "markdown",
            "id": "44cf223b-51ff-45ef-ad66-3b52480ec4e1",
            "metadata": {},
            "source": [
                "## Execution\n",
                "\n",
                "### Dependencies\n"
            ]
        },
        {
            "cell_type": "code",
            "execution_count": null,
            "id": "05191a65-aae9-4480-a91e-41b8aae29853",
            "metadata": {},
            "outputs": [],
            "source": [
                "import io\n",
                "import math\n",
                "import json\n",
                "import os\n",
                "import random\n",
                "import requests\n",
                "import secrets\n",
                "import socket\n",
                "import string\n",
                "\n",
                "from pprint import pprint, pformat\n",
                "from datetime import datetime\n"
            ]
        },
        {
            "cell_type": "code",
            "execution_count": null,
            "id": "dad83706",
            "metadata": {},
            "outputs": [],
            "source": [
                "import pandas as pd\n",
                "\n",
                "from delta import *\n",
                "from minio import Minio\n",
                "from pyspark import SparkConf\n",
                "from pyspark.sql import functions as F, DataFrame, SparkSession\n",
                "from pyspark.sql.types import DoubleType, IntegerType, StringType, StructType\n",
                "from retrying import retry\n"
            ]
        },
        {
            "cell_type": "code",
            "execution_count": null,
            "id": "1677ff22",
            "metadata": {},
            "outputs": [],
            "source": [
                "import logging\n",
                "\n",
                "# create logger\n",
                "logger = logging.getLogger(__name__)\n",
                "\n",
                "# create formatter\n",
                "log_formatter = logging.Formatter('%(asctime)s %(levelname)s [Notebook][%(name)s] [%(module)s.%(funcName)s] %(message)s')\n",
                "\n",
                "default_handler = logging.StreamHandler(sys.stdout)\n",
                "default_handler.setLevel(logging.DEBUG)\n",
                "default_handler.setFormatter(log_formatter)\n",
                "\n",
                "# create console handler and set level to debug\n",
                "console_handler = logging.StreamHandler(sys.__stdout__)\n",
                "console_handler.setLevel(logging.DEBUG)\n",
                "\n",
                "# add console formatter to handlers\n",
                "console_handler.setFormatter(log_formatter)\n",
                "\n",
                "# add handlers to logger\n",
                "logger.addHandler(default_handler)\n",
                "logger.addHandler(console_handler)\n",
                "\n",
                "# set log level for all handlers to debug\n",
                "logger.setLevel(logging.DEBUG)"
            ]
        },
        {
            "cell_type": "markdown",
            "id": "6c3dad86-5c6e-43dd-943c-5ecea18ee525",
            "metadata": {},
            "source": [
                "### Configure (parameters from Apache Papermill)\n"
            ]
        },
        {
            "cell_type": "code",
            "execution_count": null,
            "id": "5186452a-f549-4709-be25-ee92f6dc00c2",
            "metadata": {
                "tags": [
                    "parameters"
                ]
            },
            "outputs": [],
            "source": [
                "config = {}\n",
                "workingDir = {}\n"
            ]
        },
        {
            "cell_type": "markdown",
            "id": "3800a8b9",
            "metadata": {},
            "source": [
                "### Set system variables\n"
            ]
        },
        {
            "cell_type": "code",
            "execution_count": null,
            "id": "9cb77e1d",
            "metadata": {},
            "outputs": [],
            "source": [
                "home_dir = os.path.expanduser(\"~\")\n",
                "working_dir = os.getcwd()\n",
                "\n",
                "if workingDir:\n",
                "    working_dir = workingDir\n",
                "    sys.path.append(workingDir)\n",
                "\n",
                "logger.info(\"home_dir: %s\", home_dir)\n",
                "logger.info(\"working_dir: %s\", working_dir)\n",
                "\n",
                "logger.info(pformat(sys.path))\n"
            ]
        },
        {
            "cell_type": "code",
            "execution_count": null,
            "id": "cff98d54-449a-4f35-a291-9fef79a404b2",
            "metadata": {},
            "outputs": [],
            "source": [
                "from core import *\n",
                "\n",
                "if not config:\n",
                "    with open(working_dir + \"/config.json\", \"r\", encoding=\"utf-8\") as f:\n",
                "        config = json.load(f)\n",
                "config = configuration_from_dict(config)\n"
            ]
        },
        {
            "cell_type": "code",
            "execution_count": null,
            "id": "a3a8af00",
            "metadata": {},
            "outputs": [],
            "source": [
                "from core.enums import *\n",
                "from core.spark import *\n",
                "\n",
                "from app import *\n",
                "from app.config import *\n"
            ]
        },
        {
            "cell_type": "markdown",
            "id": "0b97b2af-1291-4c78-a2f9-eba94e74b63a",
            "metadata": {},
            "source": [
                "### Variables\n"
            ]
        },
        {
            "cell_type": "code",
            "execution_count": null,
            "id": "5090a0de-c525-46c1-baa8-943ea82e09c7",
            "metadata": {},
            "outputs": [],
            "source": [
                "operation = Operation(config=config, logger=logger)\n",
                "\n",
                "current_datetime = datetime.now()\n",
                "current_timestamp = int(current_datetime.utcnow().timestamp() * 1000)\n",
                "execute_timestamp = current_datetime.strftime(\"%Y-%m-%d_%H%M%S\")\n"
            ]
        },
        {
            "cell_type": "code",
            "execution_count": null,
            "id": "de222f3c",
            "metadata": {},
            "outputs": [],
            "source": [
                "app_name_prefix = config.app.name\n",
                "app_name_suffix = config.app.suffix\n",
                "\n",
                "app_name = gen_name(app_name_prefix, \"_\", execute_timestamp)"
            ]
        },
        {
            "cell_type": "markdown",
            "id": "d0327dec",
            "metadata": {},
            "source": [
                "### Initializing spark\n"
            ]
        },
        {
            "cell_type": "code",
            "execution_count": null,
            "id": "05851bc6",
            "metadata": {},
            "outputs": [],
            "source": [
                "spark_packages = [\n",
                "    \"com.amazonaws:aws-java-sdk-bundle:1.12.262\",\n",
                "    \"org.apache.hadoop:hadoop-aws:3.3.4\",\n",
                "    # \"com.microsoft.azure:azure-eventhubs-spark_2.12:2.3.21\",\n",
                "    # \"org.mongodb.spark:mongo-spark-connector:10.0.3\",\n",
                "    \"com.solytic:spark-mssql-connector_2.12:1.4.0\",\n",
                "    \"org.apache.hadoop:hadoop-azure:3.3.4\",\n",
                "    \"com.azure:azure-storage-blob:12.20.2\",\n",
                "]\n",
                "\n",
                "operation.initialize_spark(name=app_name, packages=spark_packages)\n",
                "\n",
                "sc = operation.get_current_spark_session().sparkContext\n",
                "\n",
                "logger.info(\"SparkContext: %s\", sc)\n",
                "logger.info(\n",
                "    \"Hadoop version: %s\", sc._gateway.jvm.org.apache.hadoop.util.VersionInfo.getVersion()\n",
                ")\n"
            ]
        },
        {
            "cell_type": "markdown",
            "id": "5f766bad-1f9e-4dd4-b9e9-50067f1b8d4e",
            "metadata": {},
            "source": [
                "#### Debugging global variables\n"
            ]
        },
        {
            "cell_type": "code",
            "execution_count": null,
            "id": "a196ad3c-e350-44a9-b103-66b4e9efa947",
            "metadata": {},
            "outputs": [],
            "source": [
                "# debugging\n",
                "logger.info(\"current datetime: %s\", current_datetime)\n",
                "logger.info(\"current timestamp: %s\", current_timestamp)\n",
                "\n",
                "operation.print_debug_vars()\n"
            ]
        },
        {
            "cell_type": "markdown",
            "id": "b63851d8",
            "metadata": {},
            "source": [
                "### Execute\n"
            ]
        },
        {
            "cell_type": "code",
            "execution_count": null,
            "id": "acd39c6e",
            "metadata": {},
            "outputs": [],
            "source": [
                "# add more functions here."
            ]
        }
    ],
    "metadata": {
        "kernelspec": {
            "display_name": "Python 3 (ipykernel)",
            "language": "python",
            "name": "python3"
        },
        "language_info": {
            "codemirror_mode": {
                "name": "ipython",
                "version": 3
            },
            "file_extension": ".py",
            "mimetype": "text/x-python",
            "name": "python",
            "nbconvert_exporter": "python",
            "pygments_lexer": "ipython3",
            "version": "3.10.9"
        },
        "vscode": {
            "interpreter": {
                "hash": "b0fa6594d8f4cbf19f97940f81e996739fb7646882a419484c72d19e05852a7e"
            }
        }
    },
    "nbformat": 4,
    "nbformat_minor": 5
}